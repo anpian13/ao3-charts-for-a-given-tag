{
 "cells": [
  {
   "cell_type": "code",
   "execution_count": 1,
   "metadata": {},
   "outputs": [],
   "source": [
    "import requests\n",
    "from bs4 import BeautifulSoup\n",
    "import pandas as pd"
   ]
  },
  {
   "cell_type": "code",
   "execution_count": 5,
   "metadata": {},
   "outputs": [],
   "source": [
    "url = 'https://archiveofourown.org/tags/The%20Walking%20Dead%20(TV)/works'\n",
    "page = requests.get(url)\n",
    "\n",
    "if page.status_code != 200:\n",
    "    print('couldn\\'t open url')\n",
    "\n",
    "soup = BeautifulSoup(page.text, \"html.parser\")"
   ]
  },
  {
   "cell_type": "code",
   "execution_count": 7,
   "metadata": {},
   "outputs": [],
   "source": [
    "allShips = soup.findAll('dd', {'id':'include_relationship_tags'})"
   ]
  },
  {
   "cell_type": "code",
   "execution_count": 20,
   "metadata": {},
   "outputs": [
    {
     "name": "stdout",
     "output_type": "stream",
     "text": [
      "[<dd class=\"expandable relationship tags\" id=\"include_relationship_tags\">\n",
      "<ul>\n",
      "<li>\n",
      "<label for=\"include_work_search_relationship_ids_312536\">\n",
      "<input id=\"include_work_search_relationship_ids_312536\" name=\"include_work_search[relationship_ids][]\" type=\"checkbox\" value=\"312536\"/>\n",
      "<span aria-hidden=\"true\" class=\"indicator\"></span><span>Daryl Dixon/Rick Grimes (3595)</span>\n",
      "</label> </li>\n",
      "<li>\n",
      "<label for=\"include_work_search_relationship_ids_661521\">\n",
      "<input id=\"include_work_search_relationship_ids_661521\" name=\"include_work_search[relationship_ids][]\" type=\"checkbox\" value=\"661521\"/>\n",
      "<span aria-hidden=\"true\" class=\"indicator\"></span><span>Daryl Dixon/Beth Greene (2667)</span>\n",
      "</label> </li>\n",
      "<li>\n",
      "<label for=\"include_work_search_relationship_ids_433336\">\n",
      "<input id=\"include_work_search_relationship_ids_433336\" name=\"include_work_search[relationship_ids][]\" type=\"checkbox\" value=\"433336\"/>\n",
      "<span aria-hidden=\"true\" class=\"indicator\"></span><span>Daryl Dixon/Carol Peletier (2061)</span>\n",
      "</label> </li>\n",
      "<li>\n",
      "<label for=\"include_work_search_relationship_ids_1663507\">\n",
      "<input id=\"include_work_search_relationship_ids_1663507\" name=\"include_work_search[relationship_ids][]\" type=\"checkbox\" value=\"1663507\"/>\n",
      "<span aria-hidden=\"true\" class=\"indicator\"></span><span>Daryl Dixon/Original Female Character(s) (1382)</span>\n",
      "</label> </li>\n",
      "<li>\n",
      "<label for=\"include_work_search_relationship_ids_383046\">\n",
      "<input id=\"include_work_search_relationship_ids_383046\" name=\"include_work_search[relationship_ids][]\" type=\"checkbox\" value=\"383046\"/>\n",
      "<span aria-hidden=\"true\" class=\"indicator\"></span><span>Rick Grimes/Michonne (1261)</span>\n",
      "</label> </li>\n",
      "<li>\n",
      "<label for=\"include_work_search_relationship_ids_8710627\">\n",
      "<input id=\"include_work_search_relationship_ids_8710627\" name=\"include_work_search[relationship_ids][]\" type=\"checkbox\" value=\"8710627\"/>\n",
      "<span aria-hidden=\"true\" class=\"indicator\"></span><span>Daryl Dixon/Jesus (1167)</span>\n",
      "</label> </li>\n",
      "<li>\n",
      "<label for=\"include_work_search_relationship_ids_1999004\">\n",
      "<input id=\"include_work_search_relationship_ids_1999004\" name=\"include_work_search[relationship_ids][]\" type=\"checkbox\" value=\"1999004\"/>\n",
      "<span aria-hidden=\"true\" class=\"indicator\"></span><span>Maggie Greene/Glenn Rhee (1159)</span>\n",
      "</label> </li>\n",
      "<li>\n",
      "<label for=\"include_work_search_relationship_ids_81540927\">\n",
      "<input id=\"include_work_search_relationship_ids_81540927\" name=\"include_work_search[relationship_ids][]\" type=\"checkbox\" value=\"81540927\"/>\n",
      "<span aria-hidden=\"true\" class=\"indicator\"></span><span>Negan Smith/Original Female Character(s) (1122)</span>\n",
      "</label> </li>\n",
      "<li>\n",
      "<label for=\"include_work_search_relationship_ids_81541008\">\n",
      "<input id=\"include_work_search_relationship_ids_81541008\" name=\"include_work_search[relationship_ids][]\" type=\"checkbox\" value=\"81541008\"/>\n",
      "<span aria-hidden=\"true\" class=\"indicator\"></span><span>Rick Grimes/Negan Smith (932)</span>\n",
      "</label> </li>\n",
      "<li>\n",
      "<label for=\"include_work_search_relationship_ids_1663495\">\n",
      "<input id=\"include_work_search_relationship_ids_1663495\" name=\"include_work_search[relationship_ids][]\" type=\"checkbox\" value=\"1663495\"/>\n",
      "<span aria-hidden=\"true\" class=\"indicator\"></span><span>Daryl Dixon/You (794)</span>\n",
      "</label> </li>\n",
      "</ul>\n",
      "</dd>]\n"
     ]
    }
   ],
   "source": [
    "print(allShips)\n",
    "filt = []\n",
    "\n",
    "for data in allShips:\n",
    "    if data.find('span') is not None:\n",
    "        filt.append(\"{}{}\".format(data.text.strip(),'!'))\n",
    "\n",
    "# for ship in filt: \n",
    "    # print(ship)"
   ]
  }
 ],
 "metadata": {
  "kernelspec": {
   "display_name": "Python 3.10.4",
   "language": "python",
   "name": "python3"
  },
  "language_info": {
   "codemirror_mode": {
    "name": "ipython",
    "version": 3
   },
   "file_extension": ".py",
   "mimetype": "text/x-python",
   "name": "python",
   "nbconvert_exporter": "python",
   "pygments_lexer": "ipython3",
   "version": "3.10.4"
  },
  "orig_nbformat": 4,
  "vscode": {
   "interpreter": {
    "hash": "ab84cda68c306ab3997ef1c0a9f3268c86584f494e3b841b9b039fe190056cd7"
   }
  }
 },
 "nbformat": 4,
 "nbformat_minor": 2
}
