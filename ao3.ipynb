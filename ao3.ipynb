{
 "cells": [
  {
   "cell_type": "code",
   "execution_count": 1,
   "metadata": {},
   "outputs": [],
   "source": [
    "import requests\n",
    "from bs4 import BeautifulSoup\n",
    "import pandas as pd"
   ]
  },
  {
   "cell_type": "code",
   "execution_count": 2,
   "metadata": {},
   "outputs": [],
   "source": [
    "url = 'https://archiveofourown.org/tags/The%20Walking%20Dead%20(TV)/works'\n",
    "page = requests.get(url)\n",
    "\n",
    "if page.status_code != 200:\n",
    "    print('couldn\\'t open url')\n",
    "\n",
    "soup = BeautifulSoup(page.text, \"html.parser\")"
   ]
  },
  {
   "cell_type": "code",
   "execution_count": 22,
   "metadata": {},
   "outputs": [
    {
     "name": "stdout",
     "output_type": "stream",
     "text": [
      "<ul>\n",
      "<li>\n",
      "<label for=\"include_work_search_relationship_ids_312536\">\n",
      "<input id=\"include_work_search_relationship_ids_312536\" name=\"include_work_search[relationship_ids][]\" type=\"checkbox\" value=\"312536\"/>\n",
      "<span aria-hidden=\"true\" class=\"indicator\"></span><span>Daryl Dixon/Rick Grimes (3596)</span>\n",
      "</label> </li>\n",
      "<li>\n",
      "<label for=\"include_work_search_relationship_ids_661521\">\n",
      "<input id=\"include_work_search_relationship_ids_661521\" name=\"include_work_search[relationship_ids][]\" type=\"checkbox\" value=\"661521\"/>\n",
      "<span aria-hidden=\"true\" class=\"indicator\"></span><span>Daryl Dixon/Beth Greene (2670)</span>\n",
      "</label> </li>\n",
      "<li>\n",
      "<label for=\"include_work_search_relationship_ids_433336\">\n",
      "<input id=\"include_work_search_relationship_ids_433336\" name=\"include_work_search[relationship_ids][]\" type=\"checkbox\" value=\"433336\"/>\n",
      "<span aria-hidden=\"true\" class=\"indicator\"></span><span>Daryl Dixon/Carol Peletier (2064)</span>\n",
      "</label> </li>\n",
      "<li>\n",
      "<label for=\"include_work_search_relationship_ids_1663507\">\n",
      "<input id=\"include_work_search_relationship_ids_1663507\" name=\"include_work_search[relationship_ids][]\" type=\"checkbox\" value=\"1663507\"/>\n",
      "<span aria-hidden=\"true\" class=\"indicator\"></span><span>Daryl Dixon/Original Female Character(s) (1383)</span>\n",
      "</label> </li>\n",
      "<li>\n",
      "<label for=\"include_work_search_relationship_ids_383046\">\n",
      "<input id=\"include_work_search_relationship_ids_383046\" name=\"include_work_search[relationship_ids][]\" type=\"checkbox\" value=\"383046\"/>\n",
      "<span aria-hidden=\"true\" class=\"indicator\"></span><span>Rick Grimes/Michonne (1264)</span>\n",
      "</label> </li>\n",
      "<li>\n",
      "<label for=\"include_work_search_relationship_ids_8710627\">\n",
      "<input id=\"include_work_search_relationship_ids_8710627\" name=\"include_work_search[relationship_ids][]\" type=\"checkbox\" value=\"8710627\"/>\n",
      "<span aria-hidden=\"true\" class=\"indicator\"></span><span>Daryl Dixon/Jesus (1168)</span>\n",
      "</label> </li>\n",
      "<li>\n",
      "<label for=\"include_work_search_relationship_ids_1999004\">\n",
      "<input id=\"include_work_search_relationship_ids_1999004\" name=\"include_work_search[relationship_ids][]\" type=\"checkbox\" value=\"1999004\"/>\n",
      "<span aria-hidden=\"true\" class=\"indicator\"></span><span>Maggie Greene/Glenn Rhee (1163)</span>\n",
      "</label> </li>\n",
      "<li>\n",
      "<label for=\"include_work_search_relationship_ids_81540927\">\n",
      "<input id=\"include_work_search_relationship_ids_81540927\" name=\"include_work_search[relationship_ids][]\" type=\"checkbox\" value=\"81540927\"/>\n",
      "<span aria-hidden=\"true\" class=\"indicator\"></span><span>Negan Smith/Original Female Character(s) (1119)</span>\n",
      "</label> </li>\n",
      "<li>\n",
      "<label for=\"include_work_search_relationship_ids_81540888\">\n",
      "<input id=\"include_work_search_relationship_ids_81540888\" name=\"include_work_search[relationship_ids][]\" type=\"checkbox\" value=\"81540888\"/>\n",
      "<span aria-hidden=\"true\" class=\"indicator\"></span><span>Negan Smith/You (1036)</span>\n",
      "</label> </li>\n",
      "<li>\n",
      "<label for=\"include_work_search_relationship_ids_81541008\">\n",
      "<input id=\"include_work_search_relationship_ids_81541008\" name=\"include_work_search[relationship_ids][]\" type=\"checkbox\" value=\"81541008\"/>\n",
      "<span aria-hidden=\"true\" class=\"indicator\"></span><span>Rick Grimes/Negan Smith (932)</span>\n",
      "</label> </li>\n",
      "</ul>\n"
     ]
    }
   ],
   "source": [
    "ships = soup.find('dd', {'id':'include_relationship_tags'}).find('ul')\n",
    "print(ships)"
   ]
  },
  {
   "cell_type": "code",
   "execution_count": 28,
   "metadata": {},
   "outputs": [
    {
     "name": "stdout",
     "output_type": "stream",
     "text": [
      "Daryl Dixon/Rick Grimes (3596)\n",
      "Daryl Dixon/Beth Greene (2670)\n",
      "Daryl Dixon/Carol Peletier (2064)\n",
      "Daryl Dixon/Original Female Character(s) (1383)\n",
      "Rick Grimes/Michonne (1264)\n",
      "Daryl Dixon/Jesus (1168)\n",
      "Maggie Greene/Glenn Rhee (1163)\n",
      "Negan Smith/Original Female Character(s) (1119)\n",
      "Negan Smith/You (1036)\n",
      "Rick Grimes/Negan Smith (932)\n"
     ]
    }
   ],
   "source": [
    "# filt = []\n",
    "ship_list_raw = []\n",
    "for li in ships.find_all('li'):\n",
    "    ship_list_raw.append(li.text.strip())\n",
    "\n",
    "for el in ship_list_raw:\n",
    "    print(el)"
   ]
  },
  {
   "cell_type": "code",
   "execution_count": 38,
   "metadata": {},
   "outputs": [
    {
     "name": "stderr",
     "output_type": "stream",
     "text": [
      "C:\\Users\\tnjtv\\AppData\\Local\\Temp\\ipykernel_5336\\483320935.py:12: FutureWarning: The default value of regex will change from True to False in a future version.\n",
      "  df['Number of fanfics'] = df['Number of fanfics'].str.replace(r'\\D', '').astype(int)\n"
     ]
    },
    {
     "data": {
      "text/html": [
       "<div>\n",
       "<style scoped>\n",
       "    .dataframe tbody tr th:only-of-type {\n",
       "        vertical-align: middle;\n",
       "    }\n",
       "\n",
       "    .dataframe tbody tr th {\n",
       "        vertical-align: top;\n",
       "    }\n",
       "\n",
       "    .dataframe thead th {\n",
       "        text-align: right;\n",
       "    }\n",
       "</style>\n",
       "<table border=\"1\" class=\"dataframe\">\n",
       "  <thead>\n",
       "    <tr style=\"text-align: right;\">\n",
       "      <th></th>\n",
       "      <th>Ship name</th>\n",
       "      <th>Number of fanfics</th>\n",
       "    </tr>\n",
       "  </thead>\n",
       "  <tbody>\n",
       "    <tr>\n",
       "      <th>0</th>\n",
       "      <td>Daryl Dixon/Rick Grimes</td>\n",
       "      <td>3596</td>\n",
       "    </tr>\n",
       "    <tr>\n",
       "      <th>1</th>\n",
       "      <td>Daryl Dixon/Beth Greene</td>\n",
       "      <td>2670</td>\n",
       "    </tr>\n",
       "    <tr>\n",
       "      <th>2</th>\n",
       "      <td>Daryl Dixon/Carol Peletier</td>\n",
       "      <td>2064</td>\n",
       "    </tr>\n",
       "    <tr>\n",
       "      <th>3</th>\n",
       "      <td>Daryl Dixon/Original Female Character(s)</td>\n",
       "      <td>1383</td>\n",
       "    </tr>\n",
       "    <tr>\n",
       "      <th>4</th>\n",
       "      <td>Rick Grimes/Michonne</td>\n",
       "      <td>1264</td>\n",
       "    </tr>\n",
       "  </tbody>\n",
       "</table>\n",
       "</div>"
      ],
      "text/plain": [
       "                                  Ship name  Number of fanfics\n",
       "0                   Daryl Dixon/Rick Grimes               3596\n",
       "1                   Daryl Dixon/Beth Greene               2670\n",
       "2                Daryl Dixon/Carol Peletier               2064\n",
       "3  Daryl Dixon/Original Female Character(s)               1383\n",
       "4                      Rick Grimes/Michonne               1264"
      ]
     },
     "execution_count": 38,
     "metadata": {},
     "output_type": "execute_result"
    }
   ],
   "source": [
    "# df = pd.DataFrame()\n",
    "list_ship = []\n",
    "for str in ship_list_raw:\n",
    "    list_ship.append(str.rsplit(' ',1))\n",
    "\n",
    "df = pd.DataFrame(list_ship,columns=['Ship name', 'Number of fanfics'])\n",
    "df['Number of fanfics'] = df['Number of fanfics'].str.replace(r'\\D', '').astype(int)\n",
    "df.head()\n"
   ]
  },
  {
   "cell_type": "code",
   "execution_count": null,
   "metadata": {},
   "outputs": [],
   "source": []
  }
 ],
 "metadata": {
  "kernelspec": {
   "display_name": "Python 3.10.4",
   "language": "python",
   "name": "python3"
  },
  "language_info": {
   "codemirror_mode": {
    "name": "ipython",
    "version": 3
   },
   "file_extension": ".py",
   "mimetype": "text/x-python",
   "name": "python",
   "nbconvert_exporter": "python",
   "pygments_lexer": "ipython3",
   "version": "3.10.4"
  },
  "orig_nbformat": 4,
  "vscode": {
   "interpreter": {
    "hash": "ab84cda68c306ab3997ef1c0a9f3268c86584f494e3b841b9b039fe190056cd7"
   }
  }
 },
 "nbformat": 4,
 "nbformat_minor": 2
}
